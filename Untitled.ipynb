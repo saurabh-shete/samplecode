{
 "cells": [
  {
   "cell_type": "code",
   "execution_count": 5,
   "id": "requested-criticism",
   "metadata": {},
   "outputs": [
    {
     "name": "stdout",
     "output_type": "stream",
     "text": [
      "Requirement already satisfied: spacy in c:\\users\\saurabh\\appdata\\local\\programs\\python\\python39\\lib\\site-packages (3.1.3)\n",
      "Requirement already satisfied: thinc<8.1.0,>=8.0.9 in c:\\users\\saurabh\\appdata\\local\\programs\\python\\python39\\lib\\site-packages (from spacy) (8.0.17)\n",
      "Requirement already satisfied: setuptools in c:\\users\\saurabh\\appdata\\local\\programs\\python\\python39\\lib\\site-packages (from spacy) (57.0.0)\n",
      "Requirement already satisfied: preshed<3.1.0,>=3.0.2 in c:\\users\\saurabh\\appdata\\local\\programs\\python\\python39\\lib\\site-packages (from spacy) (3.0.5)\n",
      "Requirement already satisfied: packaging>=20.0 in c:\\users\\saurabh\\appdata\\local\\programs\\python\\python39\\lib\\site-packages (from spacy) (23.1)\n",
      "Requirement already satisfied: pydantic!=1.8,!=1.8.1,<1.9.0,>=1.7.4 in c:\\users\\saurabh\\appdata\\local\\programs\\python\\python39\\lib\\site-packages (from spacy) (1.7.4)\n",
      "Requirement already satisfied: spacy-legacy<3.1.0,>=3.0.8 in c:\\users\\saurabh\\appdata\\local\\programs\\python\\python39\\lib\\site-packages (from spacy) (3.0.12)\n",
      "Requirement already satisfied: typer<0.5.0,>=0.3.0 in c:\\users\\saurabh\\appdata\\local\\programs\\python\\python39\\lib\\site-packages (from spacy) (0.3.2)\n",
      "Requirement already satisfied: jinja2 in c:\\users\\saurabh\\appdata\\local\\programs\\python\\python39\\lib\\site-packages (from spacy) (3.1.2)\n",
      "Requirement already satisfied: srsly<3.0.0,>=2.4.1 in c:\\users\\saurabh\\appdata\\local\\programs\\python\\python39\\lib\\site-packages (from spacy) (2.4.6)\n",
      "Requirement already satisfied: murmurhash<1.1.0,>=0.28.0 in c:\\users\\saurabh\\appdata\\local\\programs\\python\\python39\\lib\\site-packages (from spacy) (1.0.5)\n",
      "Requirement already satisfied: tqdm<5.0.0,>=4.38.0 in c:\\users\\saurabh\\appdata\\local\\programs\\python\\python39\\lib\\site-packages (from spacy) (4.65.0)\n",
      "Requirement already satisfied: catalogue<2.1.0,>=2.0.6 in c:\\users\\saurabh\\appdata\\local\\programs\\python\\python39\\lib\\site-packages (from spacy) (2.0.8)\n",
      "Requirement already satisfied: numpy>=1.15.0 in c:\\users\\saurabh\\appdata\\local\\programs\\python\\python39\\lib\\site-packages (from spacy) (1.24.3)\n",
      "Requirement already satisfied: cymem<2.1.0,>=2.0.2 in c:\\users\\saurabh\\appdata\\local\\programs\\python\\python39\\lib\\site-packages (from spacy) (2.0.5)\n",
      "Requirement already satisfied: requests<3.0.0,>=2.13.0 in c:\\users\\saurabh\\appdata\\local\\programs\\python\\python39\\lib\\site-packages (from spacy) (2.31.0)\n",
      "Requirement already satisfied: blis<0.8.0,>=0.4.0 in c:\\users\\saurabh\\appdata\\local\\programs\\python\\python39\\lib\\site-packages (from spacy) (0.7.9)\n",
      "Requirement already satisfied: pathy>=0.3.5 in c:\\users\\saurabh\\appdata\\local\\programs\\python\\python39\\lib\\site-packages (from spacy) (0.10.1)\n",
      "Requirement already satisfied: wasabi<1.1.0,>=0.8.1 in c:\\users\\saurabh\\appdata\\local\\programs\\python\\python39\\lib\\site-packages (from spacy) (0.10.1)\n",
      "Requirement already satisfied: smart-open<7.0.0,>=5.2.1 in c:\\users\\saurabh\\appdata\\local\\programs\\python\\python39\\lib\\site-packages (from pathy>=0.3.5->spacy) (6.3.0)\n",
      "Requirement already satisfied: idna<4,>=2.5 in c:\\users\\saurabh\\appdata\\local\\programs\\python\\python39\\lib\\site-packages (from requests<3.0.0,>=2.13.0->spacy) (2.10)\n",
      "Requirement already satisfied: charset-normalizer<4,>=2 in c:\\users\\saurabh\\appdata\\local\\programs\\python\\python39\\lib\\site-packages (from requests<3.0.0,>=2.13.0->spacy) (3.1.0)\n",
      "Requirement already satisfied: certifi>=2017.4.17 in c:\\users\\saurabh\\appdata\\local\\programs\\python\\python39\\lib\\site-packages (from requests<3.0.0,>=2.13.0->spacy) (2023.5.7)\n",
      "Requirement already satisfied: urllib3<3,>=1.21.1 in c:\\users\\saurabh\\appdata\\local\\programs\\python\\python39\\lib\\site-packages (from requests<3.0.0,>=2.13.0->spacy) (1.26.3)"
     ]
    },
    {
     "name": "stderr",
     "output_type": "stream",
     "text": [
      "WARNING: Ignoring invalid distribution -atplotlib (c:\\users\\saurabh\\appdata\\local\\programs\\python\\python39\\lib\\site-packages)\n",
      "WARNING: Ignoring invalid distribution -atplotlib (c:\\users\\saurabh\\appdata\\local\\programs\\python\\python39\\lib\\site-packages)\n",
      "WARNING: Ignoring invalid distribution -atplotlib (c:\\users\\saurabh\\appdata\\local\\programs\\python\\python39\\lib\\site-packages)\n",
      "WARNING: Ignoring invalid distribution -atplotlib (c:\\users\\saurabh\\appdata\\local\\programs\\python\\python39\\lib\\site-packages)\n",
      "WARNING: Ignoring invalid distribution -atplotlib (c:\\users\\saurabh\\appdata\\local\\programs\\python\\python39\\lib\\site-packages)\n",
      "WARNING: Ignoring invalid distribution -atplotlib (c:\\users\\saurabh\\appdata\\local\\programs\\python\\python39\\lib\\site-packages)\n",
      "\n",
      "[notice] A new release of pip available: 22.3.1 -> 23.3.2\n",
      "[notice] To update, run: python.exe -m pip install --upgrade pip\n"
     ]
    },
    {
     "name": "stdout",
     "output_type": "stream",
     "text": [
      "\n",
      "Requirement already satisfied: colorama in c:\\users\\saurabh\\appdata\\local\\programs\\python\\python39\\lib\\site-packages (from tqdm<5.0.0,>=4.38.0->spacy) (0.4.6)\n",
      "Requirement already satisfied: click<7.2.0,>=7.1.1 in c:\\users\\saurabh\\appdata\\local\\programs\\python\\python39\\lib\\site-packages (from typer<0.5.0,>=0.3.0->spacy) (7.1.2)\n",
      "Requirement already satisfied: MarkupSafe>=2.0 in c:\\users\\saurabh\\appdata\\local\\programs\\python\\python39\\lib\\site-packages (from jinja2->spacy) (2.1.3)\n",
      "Collecting en-core-web-md==3.1.0\n",
      "  Downloading https://github.com/explosion/spacy-models/releases/download/en_core_web_md-3.1.0/en_core_web_md-3.1.0-py3-none-any.whl (45.4 MB)\n",
      "     ---------------------------------------- 45.4/45.4 MB 2.3 MB/s eta 0:00:00\n",
      "Requirement already satisfied: spacy<3.2.0,>=3.1.0 in c:\\users\\saurabh\\appdata\\local\\programs\\python\\python39\\lib\\site-packages (from en-core-web-md==3.1.0) (3.1.3)\n",
      "Requirement already satisfied: wasabi<1.1.0,>=0.8.1 in c:\\users\\saurabh\\appdata\\local\\programs\\python\\python39\\lib\\site-packages (from spacy<3.2.0,>=3.1.0->en-core-web-md==3.1.0) (0.10.1)\n",
      "Requirement already satisfied: requests<3.0.0,>=2.13.0 in c:\\users\\saurabh\\appdata\\local\\programs\\python\\python39\\lib\\site-packages (from spacy<3.2.0,>=3.1.0->en-core-web-md==3.1.0) (2.31.0)\n",
      "Requirement already satisfied: blis<0.8.0,>=0.4.0 in c:\\users\\saurabh\\appdata\\local\\programs\\python\\python39\\lib\\site-packages (from spacy<3.2.0,>=3.1.0->en-core-web-md==3.1.0) (0.7.9)\n",
      "Requirement already satisfied: numpy>=1.15.0 in c:\\users\\saurabh\\appdata\\local\\programs\\python\\python39\\lib\\site-packages (from spacy<3.2.0,>=3.1.0->en-core-web-md==3.1.0) (1.24.3)\n",
      "Requirement already satisfied: spacy-legacy<3.1.0,>=3.0.8 in c:\\users\\saurabh\\appdata\\local\\programs\\python\\python39\\lib\\site-packages (from spacy<3.2.0,>=3.1.0->en-core-web-md==3.1.0) (3.0.12)\n",
      "Requirement already satisfied: pathy>=0.3.5 in c:\\users\\saurabh\\appdata\\local\\programs\\python\\python39\\lib\\site-packages (from spacy<3.2.0,>=3.1.0->en-core-web-md==3.1.0) (0.10.1)\n",
      "Requirement already satisfied: setuptools in c:\\users\\saurabh\\appdata\\local\\programs\\python\\python39\\lib\\site-packages (from spacy<3.2.0,>=3.1.0->en-core-web-md==3.1.0) (57.0.0)\n",
      "Requirement already satisfied: packaging>=20.0 in c:\\users\\saurabh\\appdata\\local\\programs\\python\\python39\\lib\\site-packages (from spacy<3.2.0,>=3.1.0->en-core-web-md==3.1.0) (23.1)\n",
      "Requirement already satisfied: tqdm<5.0.0,>=4.38.0 in c:\\users\\saurabh\\appdata\\local\\programs\\python\\python39\\lib\\site-packages (from spacy<3.2.0,>=3.1.0->en-core-web-md==3.1.0) (4.65.0)\n",
      "Requirement already satisfied: pydantic!=1.8,!=1.8.1,<1.9.0,>=1.7.4 in c:\\users\\saurabh\\appdata\\local\\programs\\python\\python39\\lib\\site-packages (from spacy<3.2.0,>=3.1.0->en-core-web-md==3.1.0) (1.7.4)\n",
      "Requirement already satisfied: thinc<8.1.0,>=8.0.9 in c:\\users\\saurabh\\appdata\\local\\programs\\python\\python39\\lib\\site-packages (from spacy<3.2.0,>=3.1.0->en-core-web-md==3.1.0) (8.0.17)\n",
      "Requirement already satisfied: srsly<3.0.0,>=2.4.1 in c:\\users\\saurabh\\appdata\\local\\programs\\python\\python39\\lib\\site-packages (from spacy<3.2.0,>=3.1.0->en-core-web-md==3.1.0) (2.4.6)\n",
      "Requirement already satisfied: preshed<3.1.0,>=3.0.2 in c:\\users\\saurabh\\appdata\\local\\programs\\python\\python39\\lib\\site-packages (from spacy<3.2.0,>=3.1.0->en-core-web-md==3.1.0) (3.0.5)\n",
      "Requirement already satisfied: catalogue<2.1.0,>=2.0.6 in c:\\users\\saurabh\\appdata\\local\\programs\\python\\python39\\lib\\site-packages (from spacy<3.2.0,>=3.1.0->en-core-web-md==3.1.0) (2.0.8)\n",
      "Requirement already satisfied: cymem<2.1.0,>=2.0.2 in c:\\users\\saurabh\\appdata\\local\\programs\\python\\python39\\lib\\site-packages (from spacy<3.2.0,>=3.1.0->en-core-web-md==3.1.0) (2.0.5)\n",
      "Requirement already satisfied: typer<0.5.0,>=0.3.0 in c:\\users\\saurabh\\appdata\\local\\programs\\python\\python39\\lib\\site-packages (from spacy<3.2.0,>=3.1.0->en-core-web-md==3.1.0) (0.3.2)\n",
      "Requirement already satisfied: murmurhash<1.1.0,>=0.28.0 in c:\\users\\saurabh\\appdata\\local\\programs\\python\\python39\\lib\\site-packages (from spacy<3.2.0,>=3.1.0->en-core-web-md==3.1.0) (1.0.5)\n",
      "Requirement already satisfied: jinja2 in c:\\users\\saurabh\\appdata\\local\\programs\\python\\python39\\lib\\site-packages (from spacy<3.2.0,>=3.1.0->en-core-web-md==3.1.0) (3.1.2)\n"
     ]
    },
    {
     "name": "stderr",
     "output_type": "stream",
     "text": [
      "WARNING: Ignoring invalid distribution -atplotlib (c:\\users\\saurabh\\appdata\\local\\programs\\python\\python39\\lib\\site-packages)\n",
      "WARNING: Ignoring invalid distribution -atplotlib (c:\\users\\saurabh\\appdata\\local\\programs\\python\\python39\\lib\\site-packages)\n",
      "WARNING: Ignoring invalid distribution -atplotlib (c:\\users\\saurabh\\appdata\\local\\programs\\python\\python39\\lib\\site-packages)\n",
      "WARNING: Ignoring invalid distribution -atplotlib (c:\\users\\saurabh\\appdata\\local\\programs\\python\\python39\\lib\\site-packages)\n",
      "WARNING: Ignoring invalid distribution -atplotlib (c:\\users\\saurabh\\appdata\\local\\programs\\python\\python39\\lib\\site-packages)\n",
      "WARNING: Ignoring invalid distribution -atplotlib (c:\\users\\saurabh\\appdata\\local\\programs\\python\\python39\\lib\\site-packages)\n",
      "WARNING: Ignoring invalid distribution -atplotlib (c:\\users\\saurabh\\appdata\\local\\programs\\python\\python39\\lib\\site-packages)\n",
      "\n",
      "[notice] A new release of pip available: 22.3.1 -> 23.3.2\n",
      "[notice] To update, run: python.exe -m pip install --upgrade pip\n"
     ]
    },
    {
     "name": "stdout",
     "output_type": "stream",
     "text": [
      "Requirement already satisfied: smart-open<7.0.0,>=5.2.1 in c:\\users\\saurabh\\appdata\\local\\programs\\python\\python39\\lib\\site-packages (from pathy>=0.3.5->spacy<3.2.0,>=3.1.0->en-core-web-md==3.1.0) (6.3.0)\n",
      "Requirement already satisfied: idna<4,>=2.5 in c:\\users\\saurabh\\appdata\\local\\programs\\python\\python39\\lib\\site-packages (from requests<3.0.0,>=2.13.0->spacy<3.2.0,>=3.1.0->en-core-web-md==3.1.0) (2.10)\n",
      "Requirement already satisfied: urllib3<3,>=1.21.1 in c:\\users\\saurabh\\appdata\\local\\programs\\python\\python39\\lib\\site-packages (from requests<3.0.0,>=2.13.0->spacy<3.2.0,>=3.1.0->en-core-web-md==3.1.0) (1.26.3)\n",
      "Requirement already satisfied: charset-normalizer<4,>=2 in c:\\users\\saurabh\\appdata\\local\\programs\\python\\python39\\lib\\site-packages (from requests<3.0.0,>=2.13.0->spacy<3.2.0,>=3.1.0->en-core-web-md==3.1.0) (3.1.0)\n",
      "Requirement already satisfied: certifi>=2017.4.17 in c:\\users\\saurabh\\appdata\\local\\programs\\python\\python39\\lib\\site-packages (from requests<3.0.0,>=2.13.0->spacy<3.2.0,>=3.1.0->en-core-web-md==3.1.0) (2023.5.7)\n",
      "Requirement already satisfied: colorama in c:\\users\\saurabh\\appdata\\local\\programs\\python\\python39\\lib\\site-packages (from tqdm<5.0.0,>=4.38.0->spacy<3.2.0,>=3.1.0->en-core-web-md==3.1.0) (0.4.6)\n",
      "Requirement already satisfied: click<7.2.0,>=7.1.1 in c:\\users\\saurabh\\appdata\\local\\programs\\python\\python39\\lib\\site-packages (from typer<0.5.0,>=0.3.0->spacy<3.2.0,>=3.1.0->en-core-web-md==3.1.0) (7.1.2)\n",
      "Requirement already satisfied: MarkupSafe>=2.0 in c:\\users\\saurabh\\appdata\\local\\programs\\python\\python39\\lib\\site-packages (from jinja2->spacy<3.2.0,>=3.1.0->en-core-web-md==3.1.0) (2.1.3)\n",
      "Installing collected packages: en-core-web-md\n",
      "Successfully installed en-core-web-md-3.1.0\n",
      "[+] Download and installation successful\n",
      "You can now load the package via spacy.load('en_core_web_md')\n"
     ]
    }
   ],
   "source": [
    "!pip install spacy\n",
    "\n",
    "!python -m spacy download en_core_web_md\n"
   ]
  },
  {
   "cell_type": "code",
   "execution_count": 6,
   "id": "cognitive-plain",
   "metadata": {},
   "outputs": [],
   "source": [
    "import spacy\n",
    "\n",
    "# Load the English NLP model with word embeddings\n",
    "nlp = spacy.load(\"en_core_web_md\")\n",
    "\n",
    "\n"
   ]
  },
  {
   "cell_type": "code",
   "execution_count": 7,
   "id": "developmental-satisfaction",
   "metadata": {},
   "outputs": [
    {
     "name": "stdout",
     "output_type": "stream",
     "text": [
      "Actual answer embedding: [ 1.10893719e-01  1.48113146e-01 -6.85610995e-02 -3.38407844e-01\n",
      "  2.60710299e-01 -6.32901192e-02  7.92771429e-02  4.42062989e-02\n",
      "  1.11854672e-02  1.90977156e+00 -6.25307858e-01 -6.99811503e-02\n",
      "  6.94560185e-02 -1.96028557e-02 -5.22366762e-02  1.77652594e-02\n",
      " -2.90372401e-01  1.36688578e+00  8.07821378e-02  2.34197136e-02\n",
      "  1.64647311e-01  1.12470044e-02 -2.15971142e-01 -1.39513105e-01\n",
      "  2.35351510e-02  5.11062928e-02 -2.18478307e-01  1.01014785e-01\n",
      " -3.14451456e-01  3.70450884e-01  1.58571467e-01 -6.50932863e-02\n",
      "  1.41705990e-01  3.42072010e-01  7.39557715e-03  1.85399398e-03\n",
      " -1.51090279e-01 -4.96298075e-02 -7.72372335e-02 -2.83217225e-02\n",
      "  1.17467575e-01  1.73631441e-02  6.31778911e-02 -1.91185309e-03\n",
      "  1.16928004e-01 -2.09409565e-01  1.27930015e-01 -1.68294162e-01\n",
      " -9.48778540e-02  2.10496992e-01 -4.34979983e-02  4.55030017e-02\n",
      " -1.72053441e-01 -6.11254275e-02  1.11809574e-01  1.69623960e-02\n",
      "  1.94400564e-01 -1.07028119e-01  1.74378023e-01 -1.22994315e-02\n",
      " -6.18648119e-02 -1.18301712e-01  9.25434462e-04  1.88030988e-01\n",
      " -5.88978566e-02  1.01259723e-01 -2.73494292e-02  1.32989690e-01\n",
      " -1.00311436e-01  6.44707158e-02 -3.62424329e-02 -1.24526300e-01\n",
      " -7.15171034e-03  5.13739996e-02  1.77454710e-01 -1.66523710e-01\n",
      " -1.38716146e-01  7.86051378e-02  7.72786140e-03  1.67470142e-01\n",
      " -2.12060008e-02  1.30599424e-01  8.68569536e-04  2.86420345e-01\n",
      " -9.76799950e-02 -2.61092871e-01  8.90969858e-02 -3.01905721e-02\n",
      "  3.14296857e-02 -1.02023564e-01 -2.04997156e-02  9.09787267e-02\n",
      " -9.25281420e-02 -2.87241697e-01  1.96460590e-01  2.08871402e-02\n",
      " -1.80629864e-01  8.84675756e-02 -2.78705694e-02  1.19166709e-01\n",
      "  4.87847738e-02  4.52328511e-02 -2.93340713e-01  7.43469968e-02\n",
      "  1.57590166e-01 -7.22545743e-01  2.15814143e-01  6.64303675e-02\n",
      "  1.70981344e-02 -1.48650870e-01 -9.23582837e-02 -1.25576273e-01\n",
      " -6.51767030e-02 -2.30955407e-01 -2.31533870e-01 -1.12458263e-02\n",
      "  8.10749978e-02  1.44703716e-01 -1.72129989e-01 -1.33470431e-01\n",
      " -8.55724290e-02  3.30303401e-01 -1.44478559e-01 -1.59397982e-02\n",
      " -2.61518866e-01  2.28110865e-01 -1.02908716e-01 -2.29071416e-02\n",
      "  3.01274300e-01 -1.09987281e-01 -8.89704376e-02 -2.02752143e-01\n",
      "  8.62475783e-02 -1.68871731e-01  1.82324722e-01 -2.16148406e-01\n",
      " -1.38927013e-01  5.57164252e-02 -1.22094870e-01 -1.43481582e-01\n",
      " -1.03910995e+00 -1.27236634e-01  1.09432854e-01 -1.00270852e-01\n",
      " -1.23271986e-03  4.43771482e-02  7.87227079e-02  3.39218587e-01\n",
      "  1.44384414e-01  6.77411407e-02  8.13490003e-02 -6.78407103e-02\n",
      " -8.88771489e-02 -2.41277009e-01 -1.09117456e-01 -7.26917014e-02\n",
      " -5.02899997e-02 -6.62057549e-02 -8.60339925e-02  8.91659930e-02\n",
      "  1.83722854e-01  1.54858574e-01 -5.91976568e-02 -8.29704255e-02\n",
      "  5.57553694e-02 -1.14982709e-01  2.17815429e-01  2.11248584e-02\n",
      " -1.71932764e-02  1.25405431e-01 -6.51286123e-03 -1.51087418e-01\n",
      "  2.56214272e-02 -1.23759974e-02 -1.11677765e-03  3.30985710e-02\n",
      " -7.64480152e-04  8.20568576e-02  7.48915672e-02 -1.50166988e-01\n",
      "  1.43330202e-01 -5.36392853e-02 -7.94429928e-02 -3.11545759e-01\n",
      "  1.73375737e-02 -3.76278572e-02 -3.35110016e-02 -1.21669583e-01\n",
      "  3.41056916e-03 -4.12132926e-02 -6.46437109e-02 -2.83409990e-02\n",
      "  1.11365564e-01  2.38190010e-01 -2.62531154e-02  1.73198730e-01\n",
      "  1.93657711e-01 -1.91533849e-01  1.10054709e-01  6.04554303e-02\n",
      "  1.65652558e-01  2.85672713e-02 -5.32668568e-02  1.38128847e-01\n",
      "  1.62186548e-01 -1.84762001e-01  1.87419146e-01 -7.51217157e-02\n",
      " -1.64177015e-01 -9.05696675e-02  8.95899814e-03  1.32211104e-01\n",
      "  7.76885673e-02 -7.94479996e-02  8.17570016e-02  2.11559683e-01\n",
      " -1.87968284e-01  1.26689151e-01 -8.54289450e-04  2.23091006e-01\n",
      " -8.65471438e-02  4.84509990e-02 -1.03090428e-01  4.27495725e-02\n",
      " -1.42895564e-01 -1.04300283e-01  1.25194862e-01  2.41347119e-01\n",
      "  5.42022400e-02  5.42047098e-02 -1.17274290e-02  4.69077714e-02\n",
      " -1.03928581e-01 -6.96145743e-02 -2.64526159e-01 -6.60557207e-03\n",
      "  3.70261408e-02  7.87114352e-03  3.43734287e-02  2.02607855e-01\n",
      "  1.21955704e-02  8.09417143e-02  1.15658708e-01 -1.11083150e-01\n",
      "  1.59318715e-01 -1.98799580e-01  4.62967157e-02 -1.97570711e-01\n",
      " -1.55054569e-01 -2.93204576e-01  1.31332010e-01  2.21073136e-01\n",
      "  2.23716274e-01 -1.02876425e-01 -1.97898480e-03  2.72684574e-01\n",
      "  6.38874248e-02 -2.01046005e-01 -1.05066419e-01  4.51454259e-02\n",
      "  1.53889999e-01  4.78465669e-02 -1.97810441e-01  1.22422867e-01\n",
      "  1.23679414e-01 -3.56037587e-01  7.60268569e-02 -1.62006006e-01\n",
      "  9.76980105e-02 -6.19171336e-02 -3.15573990e-01 -4.03125770e-02\n",
      " -6.61171554e-03 -1.58342436e-01  4.52494286e-02  1.29131570e-01\n",
      "  5.42155690e-02 -1.05614714e-01  9.61429998e-02  2.88706005e-01\n",
      "  2.41122723e-01 -1.55175716e-01  1.05252869e-01 -1.17881428e-02\n",
      "  5.87204285e-02  1.13532133e-01  1.84225008e-01 -5.27268574e-02\n",
      "  8.70172828e-02 -2.33149994e-02 -2.99099507e-03  1.81797415e-01\n",
      " -2.66777016e-02 -2.08212137e-01  4.89742979e-02  8.05059895e-02\n",
      "  1.13895703e-02 -1.32845715e-01 -1.18348584e-01 -8.89575668e-03]\n",
      "Targeted answer embedding: [ 1.10893719e-01  1.48113146e-01 -6.85610995e-02 -3.38407844e-01\n",
      "  2.60710299e-01 -6.32901192e-02  7.92771429e-02  4.42062914e-02\n",
      "  1.11854719e-02  1.90977156e+00 -6.25307858e-01 -6.99811503e-02\n",
      "  6.94560185e-02 -1.96028557e-02 -5.22366799e-02  1.77652594e-02\n",
      " -2.90372431e-01  1.36688578e+00  8.07821378e-02  2.34197117e-02\n",
      "  1.64647296e-01  1.12470016e-02 -2.15971142e-01 -1.39513105e-01\n",
      "  2.35351492e-02  5.11062928e-02 -2.18478307e-01  1.01014785e-01\n",
      " -3.14451426e-01  3.70450824e-01  1.58571482e-01 -6.50932863e-02\n",
      "  1.41705990e-01  3.42072010e-01  7.39557622e-03  1.85400038e-03\n",
      " -1.51090279e-01 -4.96298075e-02 -7.72372410e-02 -2.83217132e-02\n",
      "  1.17467567e-01  1.73631404e-02  6.31778911e-02 -1.91185309e-03\n",
      "  1.16927996e-01 -2.09409565e-01  1.27930000e-01 -1.68294162e-01\n",
      " -9.48778614e-02  2.10497007e-01 -4.34980020e-02  4.55029942e-02\n",
      " -1.72053441e-01 -6.11254275e-02  1.11809574e-01  1.69623997e-02\n",
      "  1.94400564e-01 -1.07028119e-01  1.74378023e-01 -1.22994278e-02\n",
      " -6.18648157e-02 -1.18301712e-01  9.25430213e-04  1.88031003e-01\n",
      " -5.88978529e-02  1.01259723e-01 -2.73494292e-02  1.32989720e-01\n",
      " -1.00311421e-01  6.44707158e-02 -3.62424292e-02 -1.24526277e-01\n",
      " -7.15171034e-03  5.13739996e-02  1.77454725e-01 -1.66523710e-01\n",
      " -1.38716131e-01  7.86051527e-02  7.72786140e-03  1.67470127e-01\n",
      " -2.12059952e-02  1.30599424e-01  8.68569536e-04  2.86420345e-01\n",
      " -9.76800099e-02 -2.61092842e-01  8.90969783e-02 -3.01905721e-02\n",
      "  3.14296857e-02 -1.02023564e-01 -2.04997174e-02  9.09787267e-02\n",
      " -9.25281420e-02 -2.87241697e-01  1.96460575e-01  2.08871402e-02\n",
      " -1.80629864e-01  8.84675831e-02 -2.78705694e-02  1.19166717e-01\n",
      "  4.87847663e-02  4.52328548e-02 -2.93340713e-01  7.43470043e-02\n",
      "  1.57590151e-01 -7.22545683e-01  2.15814143e-01  6.64303675e-02\n",
      "  1.70981437e-02 -1.48650870e-01 -9.23582911e-02 -1.25576273e-01\n",
      " -6.51767105e-02 -2.30955407e-01 -2.31533870e-01 -1.12458263e-02\n",
      "  8.10750052e-02  1.44703716e-01 -1.72130004e-01 -1.33470416e-01\n",
      " -8.55724290e-02  3.30303460e-01 -1.44478559e-01 -1.59397982e-02\n",
      " -2.61518866e-01  2.28110865e-01 -1.02908708e-01 -2.29071416e-02\n",
      "  3.01274300e-01 -1.09987274e-01 -8.89704227e-02 -2.02752143e-01\n",
      "  8.62475634e-02 -1.68871731e-01  1.82324693e-01 -2.16148376e-01\n",
      " -1.38927013e-01  5.57164289e-02 -1.22094855e-01 -1.43481597e-01\n",
      " -1.03911006e+00 -1.27236634e-01  1.09432854e-01 -1.00270852e-01\n",
      " -1.23271777e-03  4.43771482e-02  7.87227079e-02  3.39218587e-01\n",
      "  1.44384414e-01  6.77411482e-02  8.13490003e-02 -6.78407103e-02\n",
      " -8.88771489e-02 -2.41276994e-01 -1.09117463e-01 -7.26917014e-02\n",
      " -5.02900071e-02 -6.62057549e-02 -8.60340074e-02  8.91659930e-02\n",
      "  1.83722854e-01  1.54858574e-01 -5.91976456e-02 -8.29704255e-02\n",
      "  5.57553694e-02 -1.14982702e-01  2.17815429e-01  2.11248584e-02\n",
      " -1.71932764e-02  1.25405431e-01 -6.51285052e-03 -1.51087433e-01\n",
      "  2.56214272e-02 -1.23759974e-02 -1.11677335e-03  3.30985710e-02\n",
      " -7.64484401e-04  8.20568651e-02  7.48915672e-02 -1.50166988e-01\n",
      "  1.43330202e-01 -5.36392853e-02 -7.94429928e-02 -3.11545700e-01\n",
      "  1.73375737e-02 -3.76278572e-02 -3.35110016e-02 -1.21669576e-01\n",
      "  3.41057358e-03 -4.12132815e-02 -6.46437109e-02 -2.83409990e-02\n",
      "  1.11365564e-01  2.38190010e-01 -2.62531098e-02  1.73198715e-01\n",
      "  1.93657711e-01 -1.91533849e-01  1.10054709e-01  6.04554303e-02\n",
      "  1.65652558e-01  2.85672713e-02 -5.32668568e-02  1.38128847e-01\n",
      "  1.62186578e-01 -1.84762001e-01  1.87419146e-01 -7.51217157e-02\n",
      " -1.64177015e-01 -9.05696750e-02  8.95899814e-03  1.32211104e-01\n",
      "  7.76885748e-02 -7.94480070e-02  8.17570016e-02  2.11559698e-01\n",
      " -1.87968284e-01  1.26689151e-01 -8.54289450e-04  2.23091006e-01\n",
      " -8.65471438e-02  4.84509990e-02 -1.03090428e-01  4.27495725e-02\n",
      " -1.42895564e-01 -1.04300283e-01  1.25194862e-01  2.41347119e-01\n",
      "  5.42022400e-02  5.42047098e-02 -1.17274290e-02  4.69077714e-02\n",
      " -1.03928581e-01 -6.96145669e-02 -2.64526159e-01 -6.60557300e-03\n",
      "  3.70261408e-02  7.87114259e-03  3.43734287e-02  2.02607855e-01\n",
      "  1.21955704e-02  8.09417143e-02  1.15658715e-01 -1.11083150e-01\n",
      "  1.59318715e-01 -1.98799580e-01  4.62967083e-02 -1.97570711e-01\n",
      " -1.55054569e-01 -2.93204576e-01  1.31332010e-01  2.21073136e-01\n",
      "  2.23716289e-01 -1.02876425e-01 -1.97898480e-03  2.72684574e-01\n",
      "  6.38874248e-02 -2.01046005e-01 -1.05066434e-01  4.51454259e-02\n",
      "  1.53889999e-01  4.78465669e-02 -1.97810426e-01  1.22422852e-01\n",
      "  1.23679414e-01 -3.56037587e-01  7.60268494e-02 -1.62006006e-01\n",
      "  9.76979956e-02 -6.19171336e-02 -3.15573990e-01 -4.03125770e-02\n",
      " -6.61171554e-03 -1.58342436e-01  4.52494211e-02  1.29131570e-01\n",
      "  5.42155690e-02 -1.05614714e-01  9.61430073e-02  2.88706005e-01\n",
      "  2.41122723e-01 -1.55175716e-01  1.05252869e-01 -1.17881466e-02\n",
      "  5.87204285e-02  1.13532141e-01  1.84225008e-01 -5.27268574e-02\n",
      "  8.70172828e-02 -2.33149994e-02 -2.99100368e-03  1.81797415e-01\n",
      " -2.66777016e-02 -2.08212152e-01  4.89742979e-02  8.05059820e-02\n",
      "  1.13895703e-02 -1.32845715e-01 -1.18348584e-01 -8.89575575e-03]\n"
     ]
    }
   ],
   "source": [
    "# Actual answer\n",
    "actual_answer = \"The capital of France is Paris.\"\n",
    "actual_embedding = nlp(actual_answer).vector\n",
    "\n",
    "# Targeted answer\n",
    "targeted_answer = \"Paris is the capital of France.\"\n",
    "targeted_embedding = nlp(targeted_answer).vector\n",
    "\n",
    "print(\"Actual answer embedding:\", actual_embedding)\n",
    "print(\"Targeted answer embedding:\", targeted_embedding)"
   ]
  },
  {
   "cell_type": "code",
   "execution_count": 8,
   "id": "dominant-logistics",
   "metadata": {},
   "outputs": [
    {
     "name": "stdout",
     "output_type": "stream",
     "text": [
      "Cosine Similarity: 0.99999994\n"
     ]
    }
   ],
   "source": [
    "from sklearn.metrics.pairwise import cosine_similarity\n",
    "\n",
    "# Cosine similarity between actual and targeted answer embeddings\n",
    "similarity_score = cosine_similarity([actual_embedding], [targeted_embedding])[0, 0]\n",
    "\n",
    "print(\"Cosine Similarity:\", similarity_score)\n"
   ]
  },
  {
   "cell_type": "code",
   "execution_count": 20,
   "id": "cardiac-dealer",
   "metadata": {},
   "outputs": [
    {
     "name": "stdout",
     "output_type": "stream",
     "text": [
      "^C\n"
     ]
    }
   ],
   "source": [
    " !pip uninstall click"
   ]
  },
  {
   "cell_type": "code",
   "execution_count": 18,
   "id": "numeric-tuition",
   "metadata": {},
   "outputs": [
    {
     "name": "stdout",
     "output_type": "stream",
     "text": [
      "Requirement already satisfied: black in c:\\users\\saurabh\\appdata\\local\\programs\\python\\python39\\lib\\site-packages (23.12.1)\n",
      "Requirement already satisfied: tomli>=1.1.0 in c:\\users\\saurabh\\appdata\\local\\programs\\python\\python39\\lib\\site-packages (from black) (2.0.1)\n",
      "Requirement already satisfied: packaging>=22.0 in c:\\users\\saurabh\\appdata\\local\\programs\\python\\python39\\lib\\site-packages (from black) (23.1)\n",
      "Requirement already satisfied: platformdirs>=2 in c:\\users\\saurabh\\appdata\\local\\programs\\python\\python39\\lib\\site-packages (from black) (4.1.0)\n",
      "Requirement already satisfied: pathspec>=0.9.0 in c:\\users\\saurabh\\appdata\\local\\programs\\python\\python39\\lib\\site-packages (from black) (0.12.1)\n",
      "Requirement already satisfied: mypy-extensions>=0.4.3 in c:\\users\\saurabh\\appdata\\local\\programs\\python\\python39\\lib\\site-packages (from black) (1.0.0)\n",
      "Requirement already satisfied: click>=8.0.0 in c:\\users\\saurabh\\appdata\\local\\programs\\python\\python39\\lib\\site-packages (from black) (8.1.7)\n",
      "Requirement already satisfied: typing-extensions>=4.0.1 in c:\\users\\saurabh\\appdata\\local\\programs\\python\\python39\\lib\\site-packages (from black) (4.6.3)\n",
      "Requirement already satisfied: colorama in c:\\users\\saurabh\\appdata\\local\\programs\\python\\python39\\lib\\site-packages (from click>=8.0.0->black) (0.4.6)\n"
     ]
    },
    {
     "name": "stderr",
     "output_type": "stream",
     "text": [
      "WARNING: Ignoring invalid distribution -atplotlib (c:\\users\\saurabh\\appdata\\local\\programs\\python\\python39\\lib\\site-packages)\n",
      "WARNING: Ignoring invalid distribution -atplotlib (c:\\users\\saurabh\\appdata\\local\\programs\\python\\python39\\lib\\site-packages)\n",
      "WARNING: Ignoring invalid distribution -atplotlib (c:\\users\\saurabh\\appdata\\local\\programs\\python\\python39\\lib\\site-packages)\n",
      "WARNING: Ignoring invalid distribution -atplotlib (c:\\users\\saurabh\\appdata\\local\\programs\\python\\python39\\lib\\site-packages)\n",
      "WARNING: Ignoring invalid distribution -atplotlib (c:\\users\\saurabh\\appdata\\local\\programs\\python\\python39\\lib\\site-packages)\n",
      "WARNING: Ignoring invalid distribution -atplotlib (c:\\users\\saurabh\\appdata\\local\\programs\\python\\python39\\lib\\site-packages)\n",
      "\n",
      "[notice] A new release of pip available: 22.3.1 -> 23.3.2\n",
      "[notice] To update, run: python.exe -m pip install --upgrade pip\n"
     ]
    },
    {
     "name": "stdout",
     "output_type": "stream",
     "text": [
      "Requirement already satisfied: click in c:\\users\\saurabh\\appdata\\local\\programs\\python\\python39\\lib\\site-packages (8.1.7)\n",
      "Requirement already satisfied: colorama in c:\\users\\saurabh\\appdata\\local\\programs\\python\\python39\\lib\\site-packages (from click) (0.4.6)\n"
     ]
    },
    {
     "name": "stderr",
     "output_type": "stream",
     "text": [
      "WARNING: Ignoring invalid distribution -atplotlib (c:\\users\\saurabh\\appdata\\local\\programs\\python\\python39\\lib\\site-packages)\n",
      "WARNING: Ignoring invalid distribution -atplotlib (c:\\users\\saurabh\\appdata\\local\\programs\\python\\python39\\lib\\site-packages)\n",
      "WARNING: Ignoring invalid distribution -atplotlib (c:\\users\\saurabh\\appdata\\local\\programs\\python\\python39\\lib\\site-packages)\n",
      "WARNING: Ignoring invalid distribution -atplotlib (c:\\users\\saurabh\\appdata\\local\\programs\\python\\python39\\lib\\site-packages)\n",
      "WARNING: Ignoring invalid distribution -atplotlib (c:\\users\\saurabh\\appdata\\local\\programs\\python\\python39\\lib\\site-packages)\n",
      "WARNING: Ignoring invalid distribution -atplotlib (c:\\users\\saurabh\\appdata\\local\\programs\\python\\python39\\lib\\site-packages)\n",
      "\n",
      "[notice] A new release of pip available: 22.3.1 -> 23.3.2\n",
      "[notice] To update, run: python.exe -m pip install --upgrade pip\n"
     ]
    }
   ],
   "source": [
    " !pip install black\n",
    " !pip install click"
   ]
  },
  {
   "cell_type": "code",
   "execution_count": 29,
   "id": "level-scheduling",
   "metadata": {},
   "outputs": [
    {
     "ename": "ImportError",
     "evalue": "cannot import name 'ParameterSource' from 'click.core' (c:\\users\\saurabh\\appdata\\local\\programs\\python\\python39\\lib\\site-packages\\click\\core.py)",
     "output_type": "error",
     "traceback": [
      "\u001b[1;31m---------------------------------------------------------------------------\u001b[0m",
      "\u001b[1;31mImportError\u001b[0m                               Traceback (most recent call last)",
      "\u001b[1;32m<ipython-input-29-5d19f1477edb>\u001b[0m in \u001b[0;36m<module>\u001b[1;34m\u001b[0m\n\u001b[1;32m----> 1\u001b[1;33m \u001b[1;32mfrom\u001b[0m \u001b[0mflask\u001b[0m \u001b[1;32mimport\u001b[0m \u001b[0mFlask\u001b[0m\u001b[1;33m,\u001b[0m \u001b[0mrequest\u001b[0m\u001b[1;33m,\u001b[0m \u001b[0mjsonify\u001b[0m\u001b[1;33m\u001b[0m\u001b[1;33m\u001b[0m\u001b[0m\n\u001b[0m\u001b[0;32m      2\u001b[0m \u001b[1;32mimport\u001b[0m \u001b[0mspacy\u001b[0m\u001b[1;33m\u001b[0m\u001b[1;33m\u001b[0m\u001b[0m\n\u001b[0;32m      3\u001b[0m \u001b[1;32mfrom\u001b[0m \u001b[0msklearn\u001b[0m\u001b[1;33m.\u001b[0m\u001b[0mmetrics\u001b[0m\u001b[1;33m.\u001b[0m\u001b[0mpairwise\u001b[0m \u001b[1;32mimport\u001b[0m \u001b[0mcosine_similarity\u001b[0m\u001b[1;33m\u001b[0m\u001b[1;33m\u001b[0m\u001b[0m\n\u001b[0;32m      4\u001b[0m \u001b[1;33m\u001b[0m\u001b[0m\n\u001b[0;32m      5\u001b[0m \u001b[0mapp\u001b[0m \u001b[1;33m=\u001b[0m \u001b[0mFlask\u001b[0m\u001b[1;33m(\u001b[0m\u001b[0m__name__\u001b[0m\u001b[1;33m)\u001b[0m\u001b[1;33m\u001b[0m\u001b[1;33m\u001b[0m\u001b[0m\n",
      "\u001b[1;32mc:\\users\\saurabh\\appdata\\local\\programs\\python\\python39\\lib\\site-packages\\flask\\__init__.py\u001b[0m in \u001b[0;36m<module>\u001b[1;34m\u001b[0m\n\u001b[0;32m      4\u001b[0m \u001b[1;33m\u001b[0m\u001b[0m\n\u001b[0;32m      5\u001b[0m \u001b[1;32mfrom\u001b[0m \u001b[1;33m.\u001b[0m \u001b[1;32mimport\u001b[0m \u001b[0mjson\u001b[0m \u001b[1;32mas\u001b[0m \u001b[0mjson\u001b[0m\u001b[1;33m\u001b[0m\u001b[1;33m\u001b[0m\u001b[0m\n\u001b[1;32m----> 6\u001b[1;33m \u001b[1;32mfrom\u001b[0m \u001b[1;33m.\u001b[0m\u001b[0mapp\u001b[0m \u001b[1;32mimport\u001b[0m \u001b[0mFlask\u001b[0m \u001b[1;32mas\u001b[0m \u001b[0mFlask\u001b[0m\u001b[1;33m\u001b[0m\u001b[1;33m\u001b[0m\u001b[0m\n\u001b[0m\u001b[0;32m      7\u001b[0m \u001b[1;32mfrom\u001b[0m \u001b[1;33m.\u001b[0m\u001b[0mblueprints\u001b[0m \u001b[1;32mimport\u001b[0m \u001b[0mBlueprint\u001b[0m \u001b[1;32mas\u001b[0m \u001b[0mBlueprint\u001b[0m\u001b[1;33m\u001b[0m\u001b[1;33m\u001b[0m\u001b[0m\n\u001b[0;32m      8\u001b[0m \u001b[1;32mfrom\u001b[0m \u001b[1;33m.\u001b[0m\u001b[0mconfig\u001b[0m \u001b[1;32mimport\u001b[0m \u001b[0mConfig\u001b[0m \u001b[1;32mas\u001b[0m \u001b[0mConfig\u001b[0m\u001b[1;33m\u001b[0m\u001b[1;33m\u001b[0m\u001b[0m\n",
      "\u001b[1;32mc:\\users\\saurabh\\appdata\\local\\programs\\python\\python39\\lib\\site-packages\\flask\\app.py\u001b[0m in \u001b[0;36m<module>\u001b[1;34m\u001b[0m\n\u001b[0;32m     26\u001b[0m \u001b[1;32mfrom\u001b[0m \u001b[0mwerkzeug\u001b[0m\u001b[1;33m.\u001b[0m\u001b[0mwrappers\u001b[0m \u001b[1;32mimport\u001b[0m \u001b[0mResponse\u001b[0m \u001b[1;32mas\u001b[0m \u001b[0mBaseResponse\u001b[0m\u001b[1;33m\u001b[0m\u001b[1;33m\u001b[0m\u001b[0m\n\u001b[0;32m     27\u001b[0m \u001b[1;33m\u001b[0m\u001b[0m\n\u001b[1;32m---> 28\u001b[1;33m \u001b[1;32mfrom\u001b[0m \u001b[1;33m.\u001b[0m \u001b[1;32mimport\u001b[0m \u001b[0mcli\u001b[0m\u001b[1;33m\u001b[0m\u001b[1;33m\u001b[0m\u001b[0m\n\u001b[0m\u001b[0;32m     29\u001b[0m \u001b[1;32mfrom\u001b[0m \u001b[1;33m.\u001b[0m \u001b[1;32mimport\u001b[0m \u001b[0mtyping\u001b[0m \u001b[1;32mas\u001b[0m \u001b[0mft\u001b[0m\u001b[1;33m\u001b[0m\u001b[1;33m\u001b[0m\u001b[0m\n\u001b[0;32m     30\u001b[0m \u001b[1;32mfrom\u001b[0m \u001b[1;33m.\u001b[0m\u001b[0mctx\u001b[0m \u001b[1;32mimport\u001b[0m \u001b[0mAppContext\u001b[0m\u001b[1;33m\u001b[0m\u001b[1;33m\u001b[0m\u001b[0m\n",
      "\u001b[1;32mc:\\users\\saurabh\\appdata\\local\\programs\\python\\python39\\lib\\site-packages\\flask\\cli.py\u001b[0m in \u001b[0;36m<module>\u001b[1;34m\u001b[0m\n\u001b[0;32m     16\u001b[0m \u001b[1;33m\u001b[0m\u001b[0m\n\u001b[0;32m     17\u001b[0m \u001b[1;32mimport\u001b[0m \u001b[0mclick\u001b[0m\u001b[1;33m\u001b[0m\u001b[1;33m\u001b[0m\u001b[0m\n\u001b[1;32m---> 18\u001b[1;33m \u001b[1;32mfrom\u001b[0m \u001b[0mclick\u001b[0m\u001b[1;33m.\u001b[0m\u001b[0mcore\u001b[0m \u001b[1;32mimport\u001b[0m \u001b[0mParameterSource\u001b[0m\u001b[1;33m\u001b[0m\u001b[1;33m\u001b[0m\u001b[0m\n\u001b[0m\u001b[0;32m     19\u001b[0m \u001b[1;32mfrom\u001b[0m \u001b[0mwerkzeug\u001b[0m \u001b[1;32mimport\u001b[0m \u001b[0mrun_simple\u001b[0m\u001b[1;33m\u001b[0m\u001b[1;33m\u001b[0m\u001b[0m\n\u001b[0;32m     20\u001b[0m \u001b[1;32mfrom\u001b[0m \u001b[0mwerkzeug\u001b[0m\u001b[1;33m.\u001b[0m\u001b[0mserving\u001b[0m \u001b[1;32mimport\u001b[0m \u001b[0mis_running_from_reloader\u001b[0m\u001b[1;33m\u001b[0m\u001b[1;33m\u001b[0m\u001b[0m\n",
      "\u001b[1;31mImportError\u001b[0m: cannot import name 'ParameterSource' from 'click.core' (c:\\users\\saurabh\\appdata\\local\\programs\\python\\python39\\lib\\site-packages\\click\\core.py)"
     ]
    }
   ],
   "source": [
    "from flask import Flask, request, jsonify\n",
    "import spacy\n",
    "from sklearn.metrics.pairwise import cosine_similarity\n",
    "\n",
    "app = Flask(__name__)\n",
    "\n",
    "# Load the English NLP model with word embeddings\n",
    "nlp = spacy.load(\"en_core_web_md\")"
   ]
  },
  {
   "cell_type": "code",
   "execution_count": null,
   "id": "micro-subscriber",
   "metadata": {},
   "outputs": [],
   "source": [
    "@app.route('/calculate_similarity', methods=['POST'])\n",
    "def calculate_similarity():\n",
    "    actual_answer = request.form['actual_answer']\n",
    "    targeted_answer = request.form['targeted_answer']\n",
    "\n",
    "    actual_embedding = nlp(actual_answer).vector\n",
    "    targeted_embedding = nlp(targeted_answer).vector\n",
    "\n",
    "    similarity_score = cosine_similarity([actual_embedding], [targeted_embedding])[0, 0]\n",
    "\n",
    "    return jsonify({'similarity_score': similarity_score})"
   ]
  },
  {
   "cell_type": "code",
   "execution_count": null,
   "id": "religious-percentage",
   "metadata": {},
   "outputs": [],
   "source": []
  }
 ],
 "metadata": {
  "kernelspec": {
   "display_name": "Python 3",
   "language": "python",
   "name": "python3"
  },
  "language_info": {
   "codemirror_mode": {
    "name": "ipython",
    "version": 3
   },
   "file_extension": ".py",
   "mimetype": "text/x-python",
   "name": "python",
   "nbconvert_exporter": "python",
   "pygments_lexer": "ipython3",
   "version": "3.9.2"
  }
 },
 "nbformat": 4,
 "nbformat_minor": 5
}
